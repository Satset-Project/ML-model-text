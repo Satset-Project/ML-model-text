{
  "nbformat": 4,
  "nbformat_minor": 0,
  "metadata": {
    "colab": {
      "provenance": [],
      "gpuType": "T4"
    },
    "kernelspec": {
      "name": "python3",
      "display_name": "Python 3"
    },
    "language_info": {
      "name": "python"
    },
    "accelerator": "GPU"
  },
  "cells": [
    {
      "cell_type": "code",
      "execution_count": 1,
      "metadata": {
        "colab": {
          "base_uri": "https://localhost:8080/"
        },
        "id": "0GqJM8_wjRaU",
        "outputId": "31c305d0-5fd9-4cfc-eb4c-f0e93a69beb9"
      },
      "outputs": [
        {
          "output_type": "stream",
          "name": "stdout",
          "text": [
            "It seems like you're experiencing a faucet, which can lead to continuous dripping and water wastage. Our recommended solution for this issue is Plumbing Repair to Repair.\n"
          ]
        }
      ],
      "source": [
        "import re\n",
        "\n",
        "# Step 1: Define problem categories, keywords, and actions\n",
        "categories = {\n",
        "    \"electricity\": {\n",
        "        \"keywords\": [\"light\", \"bulb\", \"switch\", \"electrical\", \"wire\"],\n",
        "        \"actions\": [\"Installation\", \"Repair\", \"Maintenance\"]\n",
        "    },\n",
        "    \"air_conditioner\": {\n",
        "        \"keywords\": [\"air conditioner\", \"ac\", \"cooling\", \"hvac\"],\n",
        "        \"actions\": [\"Installation\", \"Repair\", \"Maintenance\"]\n",
        "    },\n",
        "    \"plumbing\": {\n",
        "        \"keywords\": [\"faucet\", \"leak\", \"pipe\", \"drip\", \"plumbing\"],\n",
        "        \"actions\": [\"Installation\", \"Repair\", \"Maintenance\"]\n",
        "    },\n",
        "    \"computer\": {\n",
        "        \"keywords\": [\"computer\", \"pc\", \"laptop\", \"software\", \"hardware\"],\n",
        "        \"actions\": [\"Installation\", \"Repair\", \"Maintenance\"]\n",
        "    },\n",
        "    \"washer\": {\n",
        "        \"keywords\": [\"washer\", \"washing machine\", \"laundry\", \"spin\", \"drain\"],\n",
        "        \"actions\": [\"Installation\", \"Repair\", \"Maintenance\"]\n",
        "    },\n",
        "    \"refrigerator\": {\n",
        "        \"keywords\": [\"refrigerator\", \"fridge\", \"cooling\", \"ice\", \"defrost\"],\n",
        "        \"actions\": [\"Installation\", \"Repair\", \"Maintenance\"]\n",
        "    },\n",
        "}\n",
        "\n",
        "# Step 2: Define solutions\n",
        "solutions = {\n",
        "    \"plumbing\": \"Plumbing {action}\",\n",
        "    \"electricity\": \"Electrical {action}\",\n",
        "    \"air_conditioner\": \"Air Conditioner {action}\",\n",
        "    \"computer\": \"Computer {action}\",\n",
        "    \"washer\": \"Washer {action}\",\n",
        "    \"refrigerator\": \"Refrigerator {action}\",\n",
        "}\n",
        "\n",
        "# Step 3: Define the template for responses\n",
        "response_template = \"It seems like you're experiencing a {problem}, which can lead to {issue}. Our recommended solution for this issue is {solution} to {action}.\"\n",
        "\n",
        "# Step 4: Text Preprocessing Function\n",
        "def preprocess_text(text):\n",
        "    text = text.lower()\n",
        "    text = re.sub(r'[^\\w\\s]', '', text)\n",
        "    return text\n",
        "\n",
        "# Step 5: Generate Response Function\n",
        "def generate_response(description):\n",
        "    preprocessed_description = preprocess_text(description)\n",
        "    words = preprocessed_description.split()\n",
        "\n",
        "    for category, details in categories.items():\n",
        "        for keyword in details[\"keywords\"]:\n",
        "            if keyword in words:\n",
        "                problem = keyword\n",
        "                issue = \"continuous dripping and water wastage\"  # Modify this as needed based on keywords\n",
        "                action = \"Repair\"  # Default action; this can be more sophisticated with additional logic\n",
        "                solution = solutions[category].format(action=action)\n",
        "                response = response_template.format(\n",
        "                    problem=problem,\n",
        "                    issue=issue,\n",
        "                    solution=solution,\n",
        "                    action=action\n",
        "                )\n",
        "                return response\n",
        "\n",
        "    return \"Sorry, I couldn't identify the problem. Please provide more details.\"\n",
        "\n",
        "# Example usage\n",
        "description = \"Broken faucet, causing continuous dripping and wasting water. Needs fixing to stop the leak and restore proper functionality.\"\n",
        "response = generate_response(description)\n",
        "print(response)\n"
      ]
    },
    {
      "cell_type": "code",
      "source": [
        "import re\n",
        "\n",
        "# Define problem categories, keywords, and actions\n",
        "categories = {\n",
        "    \"electricity\": {\n",
        "        \"keywords\": [\"light\", \"bulb\", \"switch\", \"electrical\", \"wire\"],\n",
        "        \"actions\": [\"Installation\", \"Repair\", \"Maintenance\"]\n",
        "    },\n",
        "    \"air_conditioner\": {\n",
        "        \"keywords\": [\"air conditioner\", \"ac\", \"cooling\", \"hvac\"],\n",
        "        \"actions\": [\"Installation\", \"Repair\", \"Maintenance\"]\n",
        "    },\n",
        "    \"plumbing\": {\n",
        "        \"keywords\": [\"faucet\", \"leak\", \"pipe\", \"drip\", \"plumbing\"],\n",
        "        \"actions\": [\"Installation\", \"Repair\", \"Maintenance\"]\n",
        "    },\n",
        "    \"computer\": {\n",
        "        \"keywords\": [\"computer\", \"pc\", \"laptop\", \"software\", \"hardware\"],\n",
        "        \"actions\": [\"Installation\", \"Repair\", \"Maintenance\"]\n",
        "    },\n",
        "    \"washer\": {\n",
        "        \"keywords\": [\"washer\", \"washing machine\", \"laundry\", \"spin\", \"drain\"],\n",
        "        \"actions\": [\"Installation\", \"Repair\", \"Maintenance\"]\n",
        "    },\n",
        "    \"refrigerator\": {\n",
        "        \"keywords\": [\"refrigerator\", \"fridge\", \"cooling\", \"ice\", \"defrost\"],\n",
        "        \"actions\": [\"Installation\", \"Repair\", \"Maintenance\"]\n",
        "    },\n",
        "}\n",
        "\n",
        "# Define solutions\n",
        "solutions = {\n",
        "    \"plumbing\": \"Plumbing {action}\",\n",
        "    \"electricity\": \"Electrical {action}\",\n",
        "    \"air_conditioner\": \"Air Conditioner {action}\",\n",
        "    \"computer\": \"Computer {action}\",\n",
        "    \"washer\": \"Washer {action}\",\n",
        "    \"refrigerator\": \"Refrigerator {action}\",\n",
        "}\n",
        "\n",
        "# Define the template for responses\n",
        "response_template = \"It seems like you're experiencing a {problem}, which can lead to {issue}. Our recommended solution for this issue is {solution} to {action}.\"\n",
        "\n",
        "# Text Preprocessing Function\n",
        "def preprocess_text(text):\n",
        "    text = text.lower()\n",
        "    text = re.sub(r'[^\\w\\s]', '', text)\n",
        "    return text\n",
        "\n",
        "# Generate Response Function\n",
        "def generate_response(description):\n",
        "    preprocessed_description = preprocess_text(description)\n",
        "    words = preprocessed_description.split()\n",
        "\n",
        "    for category, details in categories.items():\n",
        "        for keyword in details[\"keywords\"]:\n",
        "            if keyword in words:\n",
        "                problem = keyword\n",
        "                issue = \"an issue related to your \" + category  # Modify this as needed based on keywords\n",
        "                action = \"Repair\"  # Default action; this can be more sophisticated with additional logic\n",
        "                solution = solutions[category].format(action=action)\n",
        "                response = response_template.format(\n",
        "                    problem=problem,\n",
        "                    issue=issue,\n",
        "                    solution=solution,\n",
        "                    action=action\n",
        "                )\n",
        "                return response\n",
        "\n",
        "    return \"Sorry, I couldn't identify the problem. Please provide more details.\"\n",
        "\n",
        "# Main function to input and process description\n",
        "def main():\n",
        "    description = input(\"Please describe your issue: \")\n",
        "    response = generate_response(description)\n",
        "    print(response)\n",
        "\n",
        "# Example usage\n",
        "if __name__ == \"__main__\":\n",
        "    main()\n"
      ],
      "metadata": {
        "colab": {
          "base_uri": "https://localhost:8080/"
        },
        "id": "Em535Aq0jYqW",
        "outputId": "0572d36b-207a-40cd-9177-5a0fc8436df7"
      },
      "execution_count": 2,
      "outputs": [
        {
          "output_type": "stream",
          "name": "stdout",
          "text": [
            "Please describe your issue: Broken faucet, causing continuous dripping and wasting water. Needs fixing to stop the leak and restore proper functionality.\n",
            "It seems like you're experiencing a faucet, which can lead to an issue related to your plumbing. Our recommended solution for this issue is Plumbing Repair to Repair.\n"
          ]
        }
      ]
    },
    {
      "cell_type": "code",
      "source": [
        "import re\n",
        "\n",
        "# Define problem categories, keywords, and actions\n",
        "categories = {\n",
        "    \"electricity\": {\n",
        "        \"keywords\": [\"light\", \"bulb\", \"switch\", \"electrical\", \"wire\", \"fan\"],\n",
        "        \"actions\": [\"Installation\", \"Repair\", \"Maintenance\"]\n",
        "    },\n",
        "    \"air_conditioner\": {\n",
        "        \"keywords\": [\"air conditioner\", \"ac\", \"cooling\", \"hvac\"],\n",
        "        \"actions\": [\"Installation\", \"Repair\", \"Maintenance\"]\n",
        "    },\n",
        "    \"plumbing\": {\n",
        "        \"keywords\": [\"faucet\", \"leak\", \"pipe\", \"drip\", \"plumbing\", \"sink\", \"clog\"],\n",
        "        \"actions\": [\"Installation\", \"Repair\", \"Maintenance\"]\n",
        "    },\n",
        "    \"computer\": {\n",
        "        \"keywords\": [\"computer\", \"pc\", \"laptop\", \"software\", \"hardware\", \"screen\", \"startup\"],\n",
        "        \"actions\": [\"Installation\", \"Repair\", \"Maintenance\"]\n",
        "    },\n",
        "    \"washer\": {\n",
        "        \"keywords\": [\"washer\", \"washing machine\", \"laundry\", \"spin\", \"drain\", \"dishwasher\"],\n",
        "        \"actions\": [\"Installation\", \"Repair\", \"Maintenance\"]\n",
        "    },\n",
        "    \"refrigerator\": {\n",
        "        \"keywords\": [\"refrigerator\", \"fridge\", \"cooling\", \"ice\", \"defrost\", \"freezer\"],\n",
        "        \"actions\": [\"Installation\", \"Repair\", \"Maintenance\"]\n",
        "    },\n",
        "}\n",
        "\n",
        "# Define solutions\n",
        "solutions = {\n",
        "    \"plumbing\": \"Plumbing {action}\",\n",
        "    \"electricity\": \"Electrical {action}\",\n",
        "    \"air_conditioner\": \"Air Conditioner {action}\",\n",
        "    \"computer\": \"Computer {action}\",\n",
        "    \"washer\": \"Washer {action}\",\n",
        "    \"refrigerator\": \"Refrigerator {action}\",\n",
        "}\n",
        "\n",
        "# Define the template for responses\n",
        "response_template = \"It seems like you're experiencing a {problem}, which can lead to {issue}. Our recommended solution for this issue is {solution} to {action}.\"\n",
        "\n",
        "# Text Preprocessing Function\n",
        "def preprocess_text(text):\n",
        "    text = text.lower()\n",
        "    text = re.sub(r'[^\\w\\s]', '', text)\n",
        "    return text\n",
        "\n",
        "# Generate Response Function\n",
        "def generate_response(description):\n",
        "    preprocessed_description = preprocess_text(description)\n",
        "    words = preprocessed_description.split()\n",
        "\n",
        "    for category, details in categories.items():\n",
        "        for keyword in details[\"keywords\"]:\n",
        "            if keyword in words:\n",
        "                problem = keyword\n",
        "                issue = \"an issue related to your \" + category  # Modify this as needed based on keywords\n",
        "                action = \"Repair\"  # Default action; this can be more sophisticated with additional logic\n",
        "                solution = solutions[category].format(action=action)\n",
        "                response = response_template.format(\n",
        "                    problem=problem,\n",
        "                    issue=issue,\n",
        "                    solution=solution,\n",
        "                    action=action\n",
        "                )\n",
        "                return response\n",
        "\n",
        "    return \"Sorry, I couldn't identify the problem. Please provide more details.\"\n",
        "\n",
        "# Main function to input and process description\n",
        "def main():\n",
        "    description = input(\"Please describe your issue: \")\n",
        "    response = generate_response(description)\n",
        "    print(response)\n",
        "\n",
        "# Example usage\n",
        "if __name__ == \"__main__\":\n",
        "    main()\n"
      ],
      "metadata": {
        "colab": {
          "base_uri": "https://localhost:8080/"
        },
        "id": "-hoe24mfpSbp",
        "outputId": "628f1008-0b47-4b72-dc2c-01ed7ee8d032"
      },
      "execution_count": 3,
      "outputs": [
        {
          "output_type": "stream",
          "name": "stdout",
          "text": [
            "Please describe your issue: The ceiling fan is wobbling and making a rattling sound. Needs to be checked for loose parts and fixed.\n",
            "Sorry, I couldn't identify the problem. Please provide more details.\n"
          ]
        }
      ]
    },
    {
      "cell_type": "markdown",
      "source": [
        "Data Preparation"
      ],
      "metadata": {
        "id": "zYXqGSFrrX0w"
      }
    },
    {
      "cell_type": "code",
      "source": [
        "import pandas as pd\n",
        "\n",
        "# Sample data\n",
        "data = {\n",
        "    \"description\": [\n",
        "        \"Broken faucet, causing continuous dripping and wasting water. Needs fixing to stop the leak and restore proper functionality.\",\n",
        "        \"The air conditioner is making strange noises and not cooling the room properly. Needs to be checked and repaired.\",\n",
        "        \"The washing machine is not draining water after the cycle. Needs immediate repair to prevent water damage.\",\n",
        "        \"The computer won't start up and displays a blue screen error. Requires diagnosis and fixing.\",\n",
        "        \"The refrigerator is not keeping food cold and the freezer is defrosting. Needs urgent repair to restore proper cooling.\",\n",
        "        \"A light switch is not working and the lights won't turn on. Needs to be inspected and fixed.\",\n",
        "        \"The bathroom sink is clogged and water is not draining properly. Needs to be unclogged and restored to normal function.\",\n",
        "        \"The laptop's screen is flickering and showing distorted colors. Needs to be repaired or replaced.\",\n",
        "        \"The ceiling fan is wobbling and making a rattling sound. Needs to be checked for loose parts and fixed.\",\n",
        "        \"The dishwasher is leaking water onto the kitchen floor. Needs to be inspected and repaired to prevent further leaks.\",\n",
        "        \"The air conditioner is blowing warm air instead of cool. Needs to be serviced and refilled with coolant.\"\n",
        "    ],\n",
        "    \"category\": [\n",
        "        \"plumbing\",\n",
        "        \"air_conditioner\",\n",
        "        \"washer\",\n",
        "        \"computer\",\n",
        "        \"refrigerator\",\n",
        "        \"electricity\",\n",
        "        \"plumbing\",\n",
        "        \"computer\",\n",
        "        \"electricity\",\n",
        "        \"washer\",\n",
        "        \"air_conditioner\"\n",
        "    ],\n",
        "    \"action\": [\n",
        "        \"Repair\",\n",
        "        \"Repair\",\n",
        "        \"Repair\",\n",
        "        \"Repair\",\n",
        "        \"Repair\",\n",
        "        \"Repair\",\n",
        "        \"Maintenance\",\n",
        "        \"Repair\",\n",
        "        \"Maintenance\",\n",
        "        \"Repair\",\n",
        "        \"Maintenance\"\n",
        "    ]\n",
        "}\n",
        "\n",
        "df = pd.DataFrame(data)\n"
      ],
      "metadata": {
        "id": "BX_FtKgCqMGz"
      },
      "execution_count": 4,
      "outputs": []
    },
    {
      "cell_type": "markdown",
      "source": [
        "Preprocess the Data"
      ],
      "metadata": {
        "id": "Da9hw80xrc04"
      }
    },
    {
      "cell_type": "code",
      "source": [
        "import tensorflow as tf\n",
        "from tensorflow.keras.preprocessing.text import Tokenizer\n",
        "from tensorflow.keras.preprocessing.sequence import pad_sequences\n",
        "\n",
        "# Prepare the tokenizer\n",
        "tokenizer = Tokenizer()\n",
        "tokenizer.fit_on_texts(df['description'])\n",
        "\n",
        "# Convert text to sequences\n",
        "sequences = tokenizer.texts_to_sequences(df['description'])\n",
        "max_sequence_length = max(len(seq) for seq in sequences)\n",
        "padded_sequences = pad_sequences(sequences, maxlen=max_sequence_length, padding='post')\n",
        "\n",
        "# Prepare the labels\n",
        "category_labels = pd.get_dummies(df['category']).values\n",
        "action_labels = pd.get_dummies(df['action']).values\n"
      ],
      "metadata": {
        "id": "TSNe3FOvrZxJ"
      },
      "execution_count": 5,
      "outputs": []
    },
    {
      "cell_type": "markdown",
      "source": [
        "Build the Model"
      ],
      "metadata": {
        "id": "SRMnnOrGrjOh"
      }
    },
    {
      "cell_type": "code",
      "source": [
        "from tensorflow.keras.models import Model\n",
        "from tensorflow.keras.layers import Input, Embedding, LSTM, Dense, Concatenate\n",
        "\n",
        "# Define the input\n",
        "input_ = Input(shape=(max_sequence_length,))\n",
        "\n",
        "# Embedding layer\n",
        "embedding = Embedding(input_dim=len(tokenizer.word_index) + 1, output_dim=128, input_length=max_sequence_length)(input_)\n",
        "\n",
        "# LSTM layer\n",
        "lstm = LSTM(128)(embedding)\n",
        "\n",
        "# Dense layers for category and action predictions\n",
        "category_output = Dense(len(df['category'].unique()), activation='softmax', name='category_output')(lstm)\n",
        "action_output = Dense(len(df['action'].unique()), activation='softmax', name='action_output')(lstm)\n",
        "\n",
        "# Combine the model\n",
        "model = Model(inputs=input_, outputs=[category_output, action_output])\n",
        "\n",
        "# Compile the model\n",
        "model.compile(optimizer='adam', loss='categorical_crossentropy', metrics=['accuracy'])\n",
        "\n",
        "model.summary()\n"
      ],
      "metadata": {
        "colab": {
          "base_uri": "https://localhost:8080/"
        },
        "id": "VdK9NwmAresE",
        "outputId": "04ac1c3a-30a4-4803-a402-f7c1cef4dabc"
      },
      "execution_count": 6,
      "outputs": [
        {
          "output_type": "stream",
          "name": "stdout",
          "text": [
            "Model: \"model\"\n",
            "__________________________________________________________________________________________________\n",
            " Layer (type)                Output Shape                 Param #   Connected to                  \n",
            "==================================================================================================\n",
            " input_1 (InputLayer)        [(None, 20)]                 0         []                            \n",
            "                                                                                                  \n",
            " embedding (Embedding)       (None, 20, 128)              13312     ['input_1[0][0]']             \n",
            "                                                                                                  \n",
            " lstm (LSTM)                 (None, 128)                  131584    ['embedding[0][0]']           \n",
            "                                                                                                  \n",
            " category_output (Dense)     (None, 6)                    774       ['lstm[0][0]']                \n",
            "                                                                                                  \n",
            " action_output (Dense)       (None, 2)                    258       ['lstm[0][0]']                \n",
            "                                                                                                  \n",
            "==================================================================================================\n",
            "Total params: 145928 (570.03 KB)\n",
            "Trainable params: 145928 (570.03 KB)\n",
            "Non-trainable params: 0 (0.00 Byte)\n",
            "__________________________________________________________________________________________________\n"
          ]
        }
      ]
    },
    {
      "cell_type": "markdown",
      "source": [
        "Train the Model"
      ],
      "metadata": {
        "id": "S3pJ0oedrqew"
      }
    },
    {
      "cell_type": "code",
      "source": [
        "# Split the data into training and validation sets\n",
        "from sklearn.model_selection import train_test_split\n",
        "\n",
        "X_train, X_val, y_train_category, y_val_category, y_train_action, y_val_action = train_test_split(\n",
        "    padded_sequences, category_labels, action_labels, test_size=0.2, random_state=42\n",
        ")\n",
        "\n",
        "# Train the model\n",
        "history = model.fit(\n",
        "    X_train,\n",
        "    {'category_output': y_train_category, 'action_output': y_train_action},\n",
        "    validation_data=(X_val, {'category_output': y_val_category, 'action_output': y_val_action}),\n",
        "    epochs=10,\n",
        "    batch_size=32\n",
        ")\n"
      ],
      "metadata": {
        "colab": {
          "base_uri": "https://localhost:8080/"
        },
        "id": "R2yJGJOirl5N",
        "outputId": "4c6969fb-14a0-45da-8270-ea0fda653f7c"
      },
      "execution_count": 7,
      "outputs": [
        {
          "output_type": "stream",
          "name": "stdout",
          "text": [
            "Epoch 1/10\n",
            "1/1 [==============================] - 5s 5s/step - loss: 2.4868 - category_output_loss: 1.7942 - action_output_loss: 0.6926 - category_output_accuracy: 0.3750 - action_output_accuracy: 0.5000 - val_loss: 2.4787 - val_category_output_loss: 1.7958 - val_action_output_loss: 0.6829 - val_category_output_accuracy: 0.0000e+00 - val_action_output_accuracy: 1.0000\n",
            "Epoch 2/10\n",
            "1/1 [==============================] - 0s 71ms/step - loss: 2.4641 - category_output_loss: 1.7799 - action_output_loss: 0.6842 - category_output_accuracy: 0.3750 - action_output_accuracy: 0.6250 - val_loss: 2.4702 - val_category_output_loss: 1.8010 - val_action_output_loss: 0.6692 - val_category_output_accuracy: 0.0000e+00 - val_action_output_accuracy: 1.0000\n",
            "Epoch 3/10\n",
            "1/1 [==============================] - 0s 85ms/step - loss: 2.4417 - category_output_loss: 1.7658 - action_output_loss: 0.6759 - category_output_accuracy: 0.6250 - action_output_accuracy: 0.6250 - val_loss: 2.4620 - val_category_output_loss: 1.8066 - val_action_output_loss: 0.6553 - val_category_output_accuracy: 0.0000e+00 - val_action_output_accuracy: 1.0000\n",
            "Epoch 4/10\n",
            "1/1 [==============================] - 0s 80ms/step - loss: 2.4187 - category_output_loss: 1.7511 - action_output_loss: 0.6675 - category_output_accuracy: 0.6250 - action_output_accuracy: 0.6250 - val_loss: 2.4537 - val_category_output_loss: 1.8131 - val_action_output_loss: 0.6406 - val_category_output_accuracy: 0.0000e+00 - val_action_output_accuracy: 1.0000\n",
            "Epoch 5/10\n",
            "1/1 [==============================] - 0s 86ms/step - loss: 2.3942 - category_output_loss: 1.7356 - action_output_loss: 0.6586 - category_output_accuracy: 0.6250 - action_output_accuracy: 0.6250 - val_loss: 2.4453 - val_category_output_loss: 1.8206 - val_action_output_loss: 0.6247 - val_category_output_accuracy: 0.0000e+00 - val_action_output_accuracy: 1.0000\n",
            "Epoch 6/10\n",
            "1/1 [==============================] - 0s 92ms/step - loss: 2.3675 - category_output_loss: 1.7188 - action_output_loss: 0.6488 - category_output_accuracy: 0.5000 - action_output_accuracy: 0.6250 - val_loss: 2.4367 - val_category_output_loss: 1.8296 - val_action_output_loss: 0.6071 - val_category_output_accuracy: 0.0000e+00 - val_action_output_accuracy: 1.0000\n",
            "Epoch 7/10\n",
            "1/1 [==============================] - 0s 87ms/step - loss: 2.3377 - category_output_loss: 1.6999 - action_output_loss: 0.6377 - category_output_accuracy: 0.5000 - action_output_accuracy: 0.6250 - val_loss: 2.4277 - val_category_output_loss: 1.8406 - val_action_output_loss: 0.5872 - val_category_output_accuracy: 0.0000e+00 - val_action_output_accuracy: 1.0000\n",
            "Epoch 8/10\n",
            "1/1 [==============================] - 0s 86ms/step - loss: 2.3037 - category_output_loss: 1.6786 - action_output_loss: 0.6251 - category_output_accuracy: 0.5000 - action_output_accuracy: 0.6250 - val_loss: 2.4184 - val_category_output_loss: 1.8544 - val_action_output_loss: 0.5641 - val_category_output_accuracy: 0.0000e+00 - val_action_output_accuracy: 1.0000\n",
            "Epoch 9/10\n",
            "1/1 [==============================] - 0s 84ms/step - loss: 2.2644 - category_output_loss: 1.6540 - action_output_loss: 0.6104 - category_output_accuracy: 0.3750 - action_output_accuracy: 0.6250 - val_loss: 2.4088 - val_category_output_loss: 1.8722 - val_action_output_loss: 0.5366 - val_category_output_accuracy: 0.0000e+00 - val_action_output_accuracy: 1.0000\n",
            "Epoch 10/10\n",
            "1/1 [==============================] - 0s 96ms/step - loss: 2.2182 - category_output_loss: 1.6252 - action_output_loss: 0.5930 - category_output_accuracy: 0.2500 - action_output_accuracy: 0.6250 - val_loss: 2.3994 - val_category_output_loss: 1.8959 - val_action_output_loss: 0.5035 - val_category_output_accuracy: 0.0000e+00 - val_action_output_accuracy: 1.0000\n"
          ]
        }
      ]
    },
    {
      "cell_type": "markdown",
      "source": [
        "Generate Responses"
      ],
      "metadata": {
        "id": "WTvNqQyErwKv"
      }
    },
    {
      "cell_type": "code",
      "source": [
        "# Define the function to generate responses\n",
        "def generate_response(description):\n",
        "    # Preprocess the input description\n",
        "    sequence = tokenizer.texts_to_sequences([description])\n",
        "    padded_sequence = pad_sequences(sequence, maxlen=max_sequence_length, padding='post')\n",
        "\n",
        "    # Predict category and action\n",
        "    category_pred, action_pred = model.predict(padded_sequence)\n",
        "\n",
        "    # Get the predicted category and action\n",
        "    category = df['category'].unique()[category_pred.argmax()]\n",
        "    action = df['action'].unique()[action_pred.argmax()]\n",
        "\n",
        "    problem = \"an issue with your \" + category.replace('_', ' ')\n",
        "    issue = \"an issue related to your \" + category.replace('_', ' ')\n",
        "    solution = solutions[category].format(action=action)\n",
        "\n",
        "    response = response_template.format(\n",
        "        problem=problem,\n",
        "        issue=issue,\n",
        "        solution=solution,\n",
        "        action=action\n",
        "    )\n",
        "    return response\n",
        "\n",
        "# Test the function\n",
        "description = input(\"Please describe your issue: \")\n",
        "response = generate_response(description)\n",
        "print(response)\n"
      ],
      "metadata": {
        "colab": {
          "base_uri": "https://localhost:8080/"
        },
        "id": "ob4DxPMXrsMZ",
        "outputId": "069c7ac0-1b8c-4788-ebc3-208c6ed05bf8"
      },
      "execution_count": 8,
      "outputs": [
        {
          "output_type": "stream",
          "name": "stdout",
          "text": [
            "Please describe your issue: The air conditioner is making strange noises and not cooling the room properly. Needs to be checked and repaired.\n",
            "1/1 [==============================] - 0s 393ms/step\n",
            "It seems like you're experiencing a an issue with your air conditioner, which can lead to an issue related to your air conditioner. Our recommended solution for this issue is Air Conditioner Maintenance to Maintenance.\n"
          ]
        }
      ]
    }
  ]
}